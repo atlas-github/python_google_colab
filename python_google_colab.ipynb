{
  "nbformat": 4,
  "nbformat_minor": 0,
  "metadata": {
    "colab": {
      "provenance": [],
      "collapsed_sections": [
        "czikNLCV6z3H",
        "GjVrfIGI8GQA"
      ],
      "authorship_tag": "ABX9TyN5VLPqEzfO4+dAet6x1mUS",
      "include_colab_link": true
    },
    "kernelspec": {
      "name": "python3",
      "display_name": "Python 3"
    },
    "language_info": {
      "name": "python"
    }
  },
  "cells": [
    {
      "cell_type": "markdown",
      "metadata": {
        "id": "view-in-github",
        "colab_type": "text"
      },
      "source": [
        "<a href=\"https://colab.research.google.com/github/atlas-github/python_google_colab/blob/main/python_google_colab.ipynb\" target=\"_parent\"><img src=\"https://colab.research.google.com/assets/colab-badge.svg\" alt=\"Open In Colab\"/></a>"
      ]
    },
    {
      "cell_type": "markdown",
      "source": [
        "# Using Google Colab"
      ],
      "metadata": {
        "id": "s7YnwppL5iPi"
      }
    },
    {
      "cell_type": "markdown",
      "source": [
        "1.   `Tools` >> `Settings` >> `Editor` >> Show line numbers (check if you prefer)\n",
        "2.   `Tools` >> `Settings` >> `Miscellaneous` >> Corgi mode, Kitty mode (turn on if you like)"
      ],
      "metadata": {
        "id": "vBfNk8CX5rgt"
      }
    },
    {
      "cell_type": "markdown",
      "source": [
        "Test with some basic code:\n",
        "\n",
        "1.   Click `Connect` at top right\n",
        "2.   Write simple definition\n",
        "3.   Test simple math problem"
      ],
      "metadata": {
        "id": "wIbEZIyd52N6"
      }
    },
    {
      "cell_type": "code",
      "source": [],
      "metadata": {
        "id": "ctfvOY5E5q1M"
      },
      "execution_count": null,
      "outputs": []
    },
    {
      "cell_type": "markdown",
      "source": [
        "Runtime settings\n",
        "\n",
        "1.   Run cells using Shift-Enter\n",
        "2.   Reset runtime\n",
        "\n",
        "Write code in code cells.\n",
        "\n",
        "Write text in text cells."
      ],
      "metadata": {
        "id": "ZxLoQu8b6NTs"
      }
    },
    {
      "cell_type": "markdown",
      "source": [],
      "metadata": {
        "id": "vZOs0MWZ6bol"
      }
    },
    {
      "cell_type": "code",
      "execution_count": null,
      "metadata": {
        "id": "dehWamRQ4GTZ"
      },
      "outputs": [],
      "source": []
    },
    {
      "cell_type": "markdown",
      "source": [
        "Save using Ctrl-S"
      ],
      "metadata": {
        "id": "JZ6SxVlr6dAI"
      }
    },
    {
      "cell_type": "markdown",
      "source": [
        "# Visualize using [Seaborn](https://seaborn.pydata.org/)"
      ],
      "metadata": {
        "id": "czikNLCV6z3H"
      }
    },
    {
      "cell_type": "code",
      "source": [
        "#histplot: https://seaborn.pydata.org/generated/seaborn.histplot.html#seaborn.histplot\n",
        "\n"
      ],
      "metadata": {
        "id": "oMh_4D6f6cSN"
      },
      "execution_count": null,
      "outputs": []
    },
    {
      "cell_type": "code",
      "source": [
        "#displot: https://seaborn.pydata.org/generated/seaborn.displot.html#seaborn.displot\n",
        "\n"
      ],
      "metadata": {
        "id": "qpSE6YKX769G"
      },
      "execution_count": null,
      "outputs": []
    },
    {
      "cell_type": "code",
      "source": [
        "#boxplot: https://seaborn.pydata.org/generated/seaborn.boxplot.html#seaborn.boxplot\n",
        "\n"
      ],
      "metadata": {
        "id": "NYY_7jNM76_t"
      },
      "execution_count": null,
      "outputs": []
    },
    {
      "cell_type": "markdown",
      "source": [
        "#Upload files using [pandas](https://pandas.pydata.org/)"
      ],
      "metadata": {
        "id": "GjVrfIGI8GQA"
      }
    },
    {
      "cell_type": "code",
      "source": [
        "#read data from https://github.com/MoH-Malaysia/covid19-public/tree/main/static\n",
        "#use https://pandas.pydata.org/pandas-docs/stable/reference/api/pandas.read_csv.html\n",
        "\n"
      ],
      "metadata": {
        "id": "Hn7JgTl-8A4u"
      },
      "execution_count": null,
      "outputs": []
    },
    {
      "cell_type": "code",
      "source": [
        "#read_data from https://github.com/MoH-Malaysia/kkmnow-data\n",
        "#use https://pandas.pydata.org/docs/reference/api/pandas.read_parquet.html\n",
        "\n"
      ],
      "metadata": {
        "id": "_52ThYFS8bg8"
      },
      "execution_count": 1,
      "outputs": []
    },
    {
      "cell_type": "code",
      "source": [
        "#download Orders sheet from https://docs.google.com/spreadsheets/d/1IaonaJj-c5Ud76Uc9WeRiMSlKLTNnbg-BCUxOoZrXn0/edit?gid=0#gid=0\n",
        "#upload to Colab\n",
        "#use https://pandas.pydata.org/pandas-docs/stable/reference/api/pandas.read_csv.html\n",
        "\n"
      ],
      "metadata": {
        "id": "Qi_2xzwa8bjX"
      },
      "execution_count": 1,
      "outputs": []
    },
    {
      "cell_type": "markdown",
      "source": [
        "# Upload from Google Drive"
      ],
      "metadata": {
        "id": "jep5NgpQ-lL8"
      }
    },
    {
      "cell_type": "code",
      "source": [
        "#replace URL if needed\n",
        "url = \"https://docs.google.com/spreadsheets/d/1n1WDfUiiLsa-DftwW5kLFQV7k7chFPEdrtodNb9-BAQ/edit?gid=506954341#gid=506954341\"\n",
        "parts = url.split(\"/\")\n",
        "id = parts[5]\n",
        "id"
      ],
      "metadata": {
        "colab": {
          "base_uri": "https://localhost:8080/",
          "height": 35
        },
        "id": "LI8GHYmX_qA9",
        "outputId": "4003f55c-b6a7-462a-99c9-1d69b58d3571"
      },
      "execution_count": 2,
      "outputs": [
        {
          "output_type": "execute_result",
          "data": {
            "text/plain": [
              "'1n1WDfUiiLsa-DftwW5kLFQV7k7chFPEdrtodNb9-BAQ'"
            ],
            "application/vnd.google.colaboratory.intrinsic+json": {
              "type": "string"
            }
          },
          "metadata": {},
          "execution_count": 2
        }
      ]
    },
    {
      "cell_type": "code",
      "source": [
        "from google.colab import auth\n",
        "from google.auth import default\n",
        "import gspread\n",
        "import pandas as pd\n",
        "\n",
        "#authentication with Google credentials\n",
        "auth.authenticate_user()\n",
        "creds, _ = default()\n",
        "\n",
        "#Links to MY:patient_safety\n",
        "gc = gspread.authorize(creds)\n",
        "sh = gc.open_by_key(str(id))\n",
        "\n",
        "#gets data based on sheet name\n",
        "worksheet = sh.worksheet(\"my:national_specialist_registry\")\n",
        "rows = worksheet.get_all_values()\n",
        "\n",
        "#create dataframe\n",
        "df = pd.DataFrame.from_records(rows)\n",
        "\n",
        "#set header as first row\n",
        "df.columns = df.iloc[0]\n",
        "\n",
        "#data in row 1 and beyond\n",
        "df = df[1:]\n",
        "df"
      ],
      "metadata": {
        "colab": {
          "base_uri": "https://localhost:8080/",
          "height": 615
        },
        "id": "grGvXWDS_yaO",
        "outputId": "bdf0e8d8-30ea-4f59-9b71-667c7bd8e374"
      },
      "execution_count": 6,
      "outputs": [
        {
          "output_type": "execute_result",
          "data": {
            "text/plain": [
              "0      NSR No Title                             Name  Gender  \\\n",
              "1      129094    DR                    YONG CHOW YEN  Female   \n",
              "2      129096    DR                      LIM POH HIN    Male   \n",
              "3      129097    DR                     NG KOK KWANG    Male   \n",
              "4      129098    DR    SHARIFAH FETOM BINTI SYED ALI  Female   \n",
              "5      129099    DR    RAJA ZARINA BINTI RAJA ISMAIL  Female   \n",
              "...       ...   ...                              ...     ...   \n",
              "17196  129064    DR  HARI KRISHNAN A/L C.R. KRISHNAN    Male   \n",
              "17197  129065    DR              AZHAR BIN ZAINUDDIN    Male   \n",
              "17198  129068    DR                     K. SIVAMALAR  Female   \n",
              "17199  129069    DR                     VIJAYA MOHAN  Female   \n",
              "17200  129070    DR         GAYATRI DEVI M. VAIRAVAN  Female   \n",
              "\n",
              "0                                          Establishment  \\\n",
              "1                    _HOSPITAL PULAU PINANG, GEORGE TOWN   \n",
              "2         _KPJ AMPANG PUTERI SPECIALIST HOSPITAL, AMPANG   \n",
              "3          _DR KK NG WOMEN SPECIALIST CENTRE, GEORGETOWN   \n",
              "4                               _HOSPITAL AMPANG, AMPANG   \n",
              "5               _MONASH UNIVERSITY MALAYSIA, JOHOR BAHRU   \n",
              "...                                                  ...   \n",
              "17196  _THE TUN HUSSEIN ONN NATIONAL EYE HOSPITAL, PE...   \n",
              "17197  _KLINIK PAKAR MATA VISTA EYE SPECIALIST, BANGS...   \n",
              "17198       _PANTAI HOSPITAL KUALA LUMPUR , KUALA LUMPUR   \n",
              "17199  _THE TUN HUSSEIN ONN NATIONAL EYE HOSPITAL, PE...   \n",
              "17200  _THE TUN HUSSEIN ONN NATIONAL EYE HOSPITAL, PE...   \n",
              "\n",
              "0                   Field(s) of Practice Field(s) of Practice.1 Action  \\\n",
              "1      ANAESTHESIOLOGY AND CRITICAL CARE                      0      0   \n",
              "2                                      0              NEUROLOGY      0   \n",
              "3             OBSTETRICS AND GYNAECOLOGY                      0      0   \n",
              "4                     EMERGENCY MEDICINE                      0      0   \n",
              "5                        FAMILY MEDICINE                      0      0   \n",
              "...                                  ...                    ...    ...   \n",
              "17196                      OPHTHALMOLOGY                      0      0   \n",
              "17197                      OPHTHALMOLOGY                      0      0   \n",
              "17198                      OPHTHALMOLOGY                      0      0   \n",
              "17199                      OPHTHALMOLOGY                      0      0   \n",
              "17200                      OPHTHALMOLOGY                      0      0   \n",
              "\n",
              "0                                      Source  \n",
              "1      National Specialist Registry, Malaysia  \n",
              "2      National Specialist Registry, Malaysia  \n",
              "3      National Specialist Registry, Malaysia  \n",
              "4      National Specialist Registry, Malaysia  \n",
              "5      National Specialist Registry, Malaysia  \n",
              "...                                       ...  \n",
              "17196  National Specialist Registry, Malaysia  \n",
              "17197  National Specialist Registry, Malaysia  \n",
              "17198  National Specialist Registry, Malaysia  \n",
              "17199  National Specialist Registry, Malaysia  \n",
              "17200  National Specialist Registry, Malaysia  \n",
              "\n",
              "[17200 rows x 9 columns]"
            ],
            "text/html": [
              "\n",
              "  <div id=\"df-4d9c2299-21fb-4f91-819d-866cfc4a3791\" class=\"colab-df-container\">\n",
              "    <div>\n",
              "<style scoped>\n",
              "    .dataframe tbody tr th:only-of-type {\n",
              "        vertical-align: middle;\n",
              "    }\n",
              "\n",
              "    .dataframe tbody tr th {\n",
              "        vertical-align: top;\n",
              "    }\n",
              "\n",
              "    .dataframe thead th {\n",
              "        text-align: right;\n",
              "    }\n",
              "</style>\n",
              "<table border=\"1\" class=\"dataframe\">\n",
              "  <thead>\n",
              "    <tr style=\"text-align: right;\">\n",
              "      <th></th>\n",
              "      <th>NSR No</th>\n",
              "      <th>Title</th>\n",
              "      <th>Name</th>\n",
              "      <th>Gender</th>\n",
              "      <th>Establishment</th>\n",
              "      <th>Field(s) of Practice</th>\n",
              "      <th>Field(s) of Practice.1</th>\n",
              "      <th>Action</th>\n",
              "      <th>Source</th>\n",
              "    </tr>\n",
              "  </thead>\n",
              "  <tbody>\n",
              "    <tr>\n",
              "      <th>1</th>\n",
              "      <td>129094</td>\n",
              "      <td>DR</td>\n",
              "      <td>YONG CHOW YEN</td>\n",
              "      <td>Female</td>\n",
              "      <td>_HOSPITAL PULAU PINANG, GEORGE TOWN</td>\n",
              "      <td>ANAESTHESIOLOGY AND CRITICAL CARE</td>\n",
              "      <td>0</td>\n",
              "      <td>0</td>\n",
              "      <td>National Specialist Registry, Malaysia</td>\n",
              "    </tr>\n",
              "    <tr>\n",
              "      <th>2</th>\n",
              "      <td>129096</td>\n",
              "      <td>DR</td>\n",
              "      <td>LIM POH HIN</td>\n",
              "      <td>Male</td>\n",
              "      <td>_KPJ AMPANG PUTERI SPECIALIST HOSPITAL, AMPANG</td>\n",
              "      <td>0</td>\n",
              "      <td>NEUROLOGY</td>\n",
              "      <td>0</td>\n",
              "      <td>National Specialist Registry, Malaysia</td>\n",
              "    </tr>\n",
              "    <tr>\n",
              "      <th>3</th>\n",
              "      <td>129097</td>\n",
              "      <td>DR</td>\n",
              "      <td>NG KOK KWANG</td>\n",
              "      <td>Male</td>\n",
              "      <td>_DR KK NG WOMEN SPECIALIST CENTRE, GEORGETOWN</td>\n",
              "      <td>OBSTETRICS AND GYNAECOLOGY</td>\n",
              "      <td>0</td>\n",
              "      <td>0</td>\n",
              "      <td>National Specialist Registry, Malaysia</td>\n",
              "    </tr>\n",
              "    <tr>\n",
              "      <th>4</th>\n",
              "      <td>129098</td>\n",
              "      <td>DR</td>\n",
              "      <td>SHARIFAH FETOM BINTI SYED ALI</td>\n",
              "      <td>Female</td>\n",
              "      <td>_HOSPITAL AMPANG, AMPANG</td>\n",
              "      <td>EMERGENCY MEDICINE</td>\n",
              "      <td>0</td>\n",
              "      <td>0</td>\n",
              "      <td>National Specialist Registry, Malaysia</td>\n",
              "    </tr>\n",
              "    <tr>\n",
              "      <th>5</th>\n",
              "      <td>129099</td>\n",
              "      <td>DR</td>\n",
              "      <td>RAJA ZARINA BINTI RAJA ISMAIL</td>\n",
              "      <td>Female</td>\n",
              "      <td>_MONASH UNIVERSITY MALAYSIA, JOHOR BAHRU</td>\n",
              "      <td>FAMILY MEDICINE</td>\n",
              "      <td>0</td>\n",
              "      <td>0</td>\n",
              "      <td>National Specialist Registry, Malaysia</td>\n",
              "    </tr>\n",
              "    <tr>\n",
              "      <th>...</th>\n",
              "      <td>...</td>\n",
              "      <td>...</td>\n",
              "      <td>...</td>\n",
              "      <td>...</td>\n",
              "      <td>...</td>\n",
              "      <td>...</td>\n",
              "      <td>...</td>\n",
              "      <td>...</td>\n",
              "      <td>...</td>\n",
              "    </tr>\n",
              "    <tr>\n",
              "      <th>17196</th>\n",
              "      <td>129064</td>\n",
              "      <td>DR</td>\n",
              "      <td>HARI KRISHNAN A/L C.R. KRISHNAN</td>\n",
              "      <td>Male</td>\n",
              "      <td>_THE TUN HUSSEIN ONN NATIONAL EYE HOSPITAL, PE...</td>\n",
              "      <td>OPHTHALMOLOGY</td>\n",
              "      <td>0</td>\n",
              "      <td>0</td>\n",
              "      <td>National Specialist Registry, Malaysia</td>\n",
              "    </tr>\n",
              "    <tr>\n",
              "      <th>17197</th>\n",
              "      <td>129065</td>\n",
              "      <td>DR</td>\n",
              "      <td>AZHAR BIN ZAINUDDIN</td>\n",
              "      <td>Male</td>\n",
              "      <td>_KLINIK PAKAR MATA VISTA EYE SPECIALIST, BANGS...</td>\n",
              "      <td>OPHTHALMOLOGY</td>\n",
              "      <td>0</td>\n",
              "      <td>0</td>\n",
              "      <td>National Specialist Registry, Malaysia</td>\n",
              "    </tr>\n",
              "    <tr>\n",
              "      <th>17198</th>\n",
              "      <td>129068</td>\n",
              "      <td>DR</td>\n",
              "      <td>K. SIVAMALAR</td>\n",
              "      <td>Female</td>\n",
              "      <td>_PANTAI HOSPITAL KUALA LUMPUR , KUALA LUMPUR</td>\n",
              "      <td>OPHTHALMOLOGY</td>\n",
              "      <td>0</td>\n",
              "      <td>0</td>\n",
              "      <td>National Specialist Registry, Malaysia</td>\n",
              "    </tr>\n",
              "    <tr>\n",
              "      <th>17199</th>\n",
              "      <td>129069</td>\n",
              "      <td>DR</td>\n",
              "      <td>VIJAYA MOHAN</td>\n",
              "      <td>Female</td>\n",
              "      <td>_THE TUN HUSSEIN ONN NATIONAL EYE HOSPITAL, PE...</td>\n",
              "      <td>OPHTHALMOLOGY</td>\n",
              "      <td>0</td>\n",
              "      <td>0</td>\n",
              "      <td>National Specialist Registry, Malaysia</td>\n",
              "    </tr>\n",
              "    <tr>\n",
              "      <th>17200</th>\n",
              "      <td>129070</td>\n",
              "      <td>DR</td>\n",
              "      <td>GAYATRI DEVI M. VAIRAVAN</td>\n",
              "      <td>Female</td>\n",
              "      <td>_THE TUN HUSSEIN ONN NATIONAL EYE HOSPITAL, PE...</td>\n",
              "      <td>OPHTHALMOLOGY</td>\n",
              "      <td>0</td>\n",
              "      <td>0</td>\n",
              "      <td>National Specialist Registry, Malaysia</td>\n",
              "    </tr>\n",
              "  </tbody>\n",
              "</table>\n",
              "<p>17200 rows × 9 columns</p>\n",
              "</div>\n",
              "    <div class=\"colab-df-buttons\">\n",
              "\n",
              "  <div class=\"colab-df-container\">\n",
              "    <button class=\"colab-df-convert\" onclick=\"convertToInteractive('df-4d9c2299-21fb-4f91-819d-866cfc4a3791')\"\n",
              "            title=\"Convert this dataframe to an interactive table.\"\n",
              "            style=\"display:none;\">\n",
              "\n",
              "  <svg xmlns=\"http://www.w3.org/2000/svg\" height=\"24px\" viewBox=\"0 -960 960 960\">\n",
              "    <path d=\"M120-120v-720h720v720H120Zm60-500h600v-160H180v160Zm220 220h160v-160H400v160Zm0 220h160v-160H400v160ZM180-400h160v-160H180v160Zm440 0h160v-160H620v160ZM180-180h160v-160H180v160Zm440 0h160v-160H620v160Z\"/>\n",
              "  </svg>\n",
              "    </button>\n",
              "\n",
              "  <style>\n",
              "    .colab-df-container {\n",
              "      display:flex;\n",
              "      gap: 12px;\n",
              "    }\n",
              "\n",
              "    .colab-df-convert {\n",
              "      background-color: #E8F0FE;\n",
              "      border: none;\n",
              "      border-radius: 50%;\n",
              "      cursor: pointer;\n",
              "      display: none;\n",
              "      fill: #1967D2;\n",
              "      height: 32px;\n",
              "      padding: 0 0 0 0;\n",
              "      width: 32px;\n",
              "    }\n",
              "\n",
              "    .colab-df-convert:hover {\n",
              "      background-color: #E2EBFA;\n",
              "      box-shadow: 0px 1px 2px rgba(60, 64, 67, 0.3), 0px 1px 3px 1px rgba(60, 64, 67, 0.15);\n",
              "      fill: #174EA6;\n",
              "    }\n",
              "\n",
              "    .colab-df-buttons div {\n",
              "      margin-bottom: 4px;\n",
              "    }\n",
              "\n",
              "    [theme=dark] .colab-df-convert {\n",
              "      background-color: #3B4455;\n",
              "      fill: #D2E3FC;\n",
              "    }\n",
              "\n",
              "    [theme=dark] .colab-df-convert:hover {\n",
              "      background-color: #434B5C;\n",
              "      box-shadow: 0px 1px 3px 1px rgba(0, 0, 0, 0.15);\n",
              "      filter: drop-shadow(0px 1px 2px rgba(0, 0, 0, 0.3));\n",
              "      fill: #FFFFFF;\n",
              "    }\n",
              "  </style>\n",
              "\n",
              "    <script>\n",
              "      const buttonEl =\n",
              "        document.querySelector('#df-4d9c2299-21fb-4f91-819d-866cfc4a3791 button.colab-df-convert');\n",
              "      buttonEl.style.display =\n",
              "        google.colab.kernel.accessAllowed ? 'block' : 'none';\n",
              "\n",
              "      async function convertToInteractive(key) {\n",
              "        const element = document.querySelector('#df-4d9c2299-21fb-4f91-819d-866cfc4a3791');\n",
              "        const dataTable =\n",
              "          await google.colab.kernel.invokeFunction('convertToInteractive',\n",
              "                                                    [key], {});\n",
              "        if (!dataTable) return;\n",
              "\n",
              "        const docLinkHtml = 'Like what you see? Visit the ' +\n",
              "          '<a target=\"_blank\" href=https://colab.research.google.com/notebooks/data_table.ipynb>data table notebook</a>'\n",
              "          + ' to learn more about interactive tables.';\n",
              "        element.innerHTML = '';\n",
              "        dataTable['output_type'] = 'display_data';\n",
              "        await google.colab.output.renderOutput(dataTable, element);\n",
              "        const docLink = document.createElement('div');\n",
              "        docLink.innerHTML = docLinkHtml;\n",
              "        element.appendChild(docLink);\n",
              "      }\n",
              "    </script>\n",
              "  </div>\n",
              "\n",
              "\n",
              "<div id=\"df-095160fc-b03e-4dc3-b024-982639172dc6\">\n",
              "  <button class=\"colab-df-quickchart\" onclick=\"quickchart('df-095160fc-b03e-4dc3-b024-982639172dc6')\"\n",
              "            title=\"Suggest charts\"\n",
              "            style=\"display:none;\">\n",
              "\n",
              "<svg xmlns=\"http://www.w3.org/2000/svg\" height=\"24px\"viewBox=\"0 0 24 24\"\n",
              "     width=\"24px\">\n",
              "    <g>\n",
              "        <path d=\"M19 3H5c-1.1 0-2 .9-2 2v14c0 1.1.9 2 2 2h14c1.1 0 2-.9 2-2V5c0-1.1-.9-2-2-2zM9 17H7v-7h2v7zm4 0h-2V7h2v10zm4 0h-2v-4h2v4z\"/>\n",
              "    </g>\n",
              "</svg>\n",
              "  </button>\n",
              "\n",
              "<style>\n",
              "  .colab-df-quickchart {\n",
              "      --bg-color: #E8F0FE;\n",
              "      --fill-color: #1967D2;\n",
              "      --hover-bg-color: #E2EBFA;\n",
              "      --hover-fill-color: #174EA6;\n",
              "      --disabled-fill-color: #AAA;\n",
              "      --disabled-bg-color: #DDD;\n",
              "  }\n",
              "\n",
              "  [theme=dark] .colab-df-quickchart {\n",
              "      --bg-color: #3B4455;\n",
              "      --fill-color: #D2E3FC;\n",
              "      --hover-bg-color: #434B5C;\n",
              "      --hover-fill-color: #FFFFFF;\n",
              "      --disabled-bg-color: #3B4455;\n",
              "      --disabled-fill-color: #666;\n",
              "  }\n",
              "\n",
              "  .colab-df-quickchart {\n",
              "    background-color: var(--bg-color);\n",
              "    border: none;\n",
              "    border-radius: 50%;\n",
              "    cursor: pointer;\n",
              "    display: none;\n",
              "    fill: var(--fill-color);\n",
              "    height: 32px;\n",
              "    padding: 0;\n",
              "    width: 32px;\n",
              "  }\n",
              "\n",
              "  .colab-df-quickchart:hover {\n",
              "    background-color: var(--hover-bg-color);\n",
              "    box-shadow: 0 1px 2px rgba(60, 64, 67, 0.3), 0 1px 3px 1px rgba(60, 64, 67, 0.15);\n",
              "    fill: var(--button-hover-fill-color);\n",
              "  }\n",
              "\n",
              "  .colab-df-quickchart-complete:disabled,\n",
              "  .colab-df-quickchart-complete:disabled:hover {\n",
              "    background-color: var(--disabled-bg-color);\n",
              "    fill: var(--disabled-fill-color);\n",
              "    box-shadow: none;\n",
              "  }\n",
              "\n",
              "  .colab-df-spinner {\n",
              "    border: 2px solid var(--fill-color);\n",
              "    border-color: transparent;\n",
              "    border-bottom-color: var(--fill-color);\n",
              "    animation:\n",
              "      spin 1s steps(1) infinite;\n",
              "  }\n",
              "\n",
              "  @keyframes spin {\n",
              "    0% {\n",
              "      border-color: transparent;\n",
              "      border-bottom-color: var(--fill-color);\n",
              "      border-left-color: var(--fill-color);\n",
              "    }\n",
              "    20% {\n",
              "      border-color: transparent;\n",
              "      border-left-color: var(--fill-color);\n",
              "      border-top-color: var(--fill-color);\n",
              "    }\n",
              "    30% {\n",
              "      border-color: transparent;\n",
              "      border-left-color: var(--fill-color);\n",
              "      border-top-color: var(--fill-color);\n",
              "      border-right-color: var(--fill-color);\n",
              "    }\n",
              "    40% {\n",
              "      border-color: transparent;\n",
              "      border-right-color: var(--fill-color);\n",
              "      border-top-color: var(--fill-color);\n",
              "    }\n",
              "    60% {\n",
              "      border-color: transparent;\n",
              "      border-right-color: var(--fill-color);\n",
              "    }\n",
              "    80% {\n",
              "      border-color: transparent;\n",
              "      border-right-color: var(--fill-color);\n",
              "      border-bottom-color: var(--fill-color);\n",
              "    }\n",
              "    90% {\n",
              "      border-color: transparent;\n",
              "      border-bottom-color: var(--fill-color);\n",
              "    }\n",
              "  }\n",
              "</style>\n",
              "\n",
              "  <script>\n",
              "    async function quickchart(key) {\n",
              "      const quickchartButtonEl =\n",
              "        document.querySelector('#' + key + ' button');\n",
              "      quickchartButtonEl.disabled = true;  // To prevent multiple clicks.\n",
              "      quickchartButtonEl.classList.add('colab-df-spinner');\n",
              "      try {\n",
              "        const charts = await google.colab.kernel.invokeFunction(\n",
              "            'suggestCharts', [key], {});\n",
              "      } catch (error) {\n",
              "        console.error('Error during call to suggestCharts:', error);\n",
              "      }\n",
              "      quickchartButtonEl.classList.remove('colab-df-spinner');\n",
              "      quickchartButtonEl.classList.add('colab-df-quickchart-complete');\n",
              "    }\n",
              "    (() => {\n",
              "      let quickchartButtonEl =\n",
              "        document.querySelector('#df-095160fc-b03e-4dc3-b024-982639172dc6 button');\n",
              "      quickchartButtonEl.style.display =\n",
              "        google.colab.kernel.accessAllowed ? 'block' : 'none';\n",
              "    })();\n",
              "  </script>\n",
              "</div>\n",
              "\n",
              "  <div id=\"id_68f72a93-c610-4806-800a-e862bdc427e9\">\n",
              "    <style>\n",
              "      .colab-df-generate {\n",
              "        background-color: #E8F0FE;\n",
              "        border: none;\n",
              "        border-radius: 50%;\n",
              "        cursor: pointer;\n",
              "        display: none;\n",
              "        fill: #1967D2;\n",
              "        height: 32px;\n",
              "        padding: 0 0 0 0;\n",
              "        width: 32px;\n",
              "      }\n",
              "\n",
              "      .colab-df-generate:hover {\n",
              "        background-color: #E2EBFA;\n",
              "        box-shadow: 0px 1px 2px rgba(60, 64, 67, 0.3), 0px 1px 3px 1px rgba(60, 64, 67, 0.15);\n",
              "        fill: #174EA6;\n",
              "      }\n",
              "\n",
              "      [theme=dark] .colab-df-generate {\n",
              "        background-color: #3B4455;\n",
              "        fill: #D2E3FC;\n",
              "      }\n",
              "\n",
              "      [theme=dark] .colab-df-generate:hover {\n",
              "        background-color: #434B5C;\n",
              "        box-shadow: 0px 1px 3px 1px rgba(0, 0, 0, 0.15);\n",
              "        filter: drop-shadow(0px 1px 2px rgba(0, 0, 0, 0.3));\n",
              "        fill: #FFFFFF;\n",
              "      }\n",
              "    </style>\n",
              "    <button class=\"colab-df-generate\" onclick=\"generateWithVariable('df')\"\n",
              "            title=\"Generate code using this dataframe.\"\n",
              "            style=\"display:none;\">\n",
              "\n",
              "  <svg xmlns=\"http://www.w3.org/2000/svg\" height=\"24px\"viewBox=\"0 0 24 24\"\n",
              "       width=\"24px\">\n",
              "    <path d=\"M7,19H8.4L18.45,9,17,7.55,7,17.6ZM5,21V16.75L18.45,3.32a2,2,0,0,1,2.83,0l1.4,1.43a1.91,1.91,0,0,1,.58,1.4,1.91,1.91,0,0,1-.58,1.4L9.25,21ZM18.45,9,17,7.55Zm-12,3A5.31,5.31,0,0,0,4.9,8.1,5.31,5.31,0,0,0,1,6.5,5.31,5.31,0,0,0,4.9,4.9,5.31,5.31,0,0,0,6.5,1,5.31,5.31,0,0,0,8.1,4.9,5.31,5.31,0,0,0,12,6.5,5.46,5.46,0,0,0,6.5,12Z\"/>\n",
              "  </svg>\n",
              "    </button>\n",
              "    <script>\n",
              "      (() => {\n",
              "      const buttonEl =\n",
              "        document.querySelector('#id_68f72a93-c610-4806-800a-e862bdc427e9 button.colab-df-generate');\n",
              "      buttonEl.style.display =\n",
              "        google.colab.kernel.accessAllowed ? 'block' : 'none';\n",
              "\n",
              "      buttonEl.onclick = () => {\n",
              "        google.colab.notebook.generateWithVariable('df');\n",
              "      }\n",
              "      })();\n",
              "    </script>\n",
              "  </div>\n",
              "\n",
              "    </div>\n",
              "  </div>\n"
            ],
            "application/vnd.google.colaboratory.intrinsic+json": {
              "type": "dataframe",
              "variable_name": "df",
              "summary": "{\n  \"name\": \"df\",\n  \"rows\": 17200,\n  \"fields\": [\n    {\n      \"column\": \"NSR No\",\n      \"properties\": {\n        \"dtype\": \"string\",\n        \"num_unique_values\": 17180,\n        \"samples\": [\n          \"139774\",\n          \"137154\",\n          \"137669\"\n        ],\n        \"semantic_type\": \"\",\n        \"description\": \"\"\n      }\n    },\n    {\n      \"column\": \"Title\",\n      \"properties\": {\n        \"dtype\": \"category\",\n        \"num_unique_values\": 259,\n        \"samples\": [\n          \"BRIG. JEN. DR\",\n          \"DATO'\",\n          \"PROFESSOR DR\"\n        ],\n        \"semantic_type\": \"\",\n        \"description\": \"\"\n      }\n    },\n    {\n      \"column\": \"Name\",\n      \"properties\": {\n        \"dtype\": \"string\",\n        \"num_unique_values\": 17147,\n        \"samples\": [\n          \"ABDULLAH ASAD SIDDIQUI\",\n          \"MOHD AZAM BIN MOHD YUSOFF\",\n          \"SHANTHI RATNAM\"\n        ],\n        \"semantic_type\": \"\",\n        \"description\": \"\"\n      }\n    },\n    {\n      \"column\": \"Gender\",\n      \"properties\": {\n        \"dtype\": \"category\",\n        \"num_unique_values\": 3,\n        \"samples\": [\n          \"Female\",\n          \"Male\",\n          \"0\"\n        ],\n        \"semantic_type\": \"\",\n        \"description\": \"\"\n      }\n    },\n    {\n      \"column\": \"Establishment\",\n      \"properties\": {\n        \"dtype\": \"category\",\n        \"num_unique_values\": 8555,\n        \"samples\": [\n          \"_KMI TAMAN DESA MEDICAL CENTRE, KUALA LUMPUR  _SUNWAY MEDICAL CENTRE, PETALING JAYA  _KLINIK PAKAR WANITA FAN, KUALA LUMPUR\",\n          \"_CLATTERBRIDGE CANCER CENTRE, LIVERPOOL\",\n          \"_TUN HUSSEIN ONN NATIONAL EYE HOSPITAL, PETALING JAYA\"\n        ],\n        \"semantic_type\": \"\",\n        \"description\": \"\"\n      }\n    },\n    {\n      \"column\": \"Field(s) of Practice\",\n      \"properties\": {\n        \"dtype\": \"category\",\n        \"num_unique_values\": 41,\n        \"samples\": [\n          \"CHEMICAL PATHOLOGY\",\n          \"NEUROSURGERY\",\n          \"GENERAL PAEDIATRICS\"\n        ],\n        \"semantic_type\": \"\",\n        \"description\": \"\"\n      }\n    },\n    {\n      \"column\": \"Field(s) of Practice.1\",\n      \"properties\": {\n        \"dtype\": \"category\",\n        \"num_unique_values\": 54,\n        \"samples\": [\n          \"MEDICAL MICROBIOLOGY\",\n          \"PAEDIATRIC INFECTIOUS DISEASES\",\n          \"PAEDIATRIC RHEUMATOLOGY\"\n        ],\n        \"semantic_type\": \"\",\n        \"description\": \"\"\n      }\n    },\n    {\n      \"column\": \"Action\",\n      \"properties\": {\n        \"dtype\": \"category\",\n        \"num_unique_values\": 1,\n        \"samples\": [\n          \"0\"\n        ],\n        \"semantic_type\": \"\",\n        \"description\": \"\"\n      }\n    },\n    {\n      \"column\": \"Source\",\n      \"properties\": {\n        \"dtype\": \"category\",\n        \"num_unique_values\": 1,\n        \"samples\": [\n          \"National Specialist Registry, Malaysia\"\n        ],\n        \"semantic_type\": \"\",\n        \"description\": \"\"\n      }\n    }\n  ]\n}"
            }
          },
          "metadata": {},
          "execution_count": 6
        }
      ]
    },
    {
      "cell_type": "markdown",
      "source": [
        "# Calling external APIs"
      ],
      "metadata": {
        "id": "kJCwygehJiz2"
      }
    },
    {
      "cell_type": "code",
      "source": [
        "#use https://developer.data.gov.my/realtime-api/gtfs-realtime\n",
        "\n"
      ],
      "metadata": {
        "id": "hUTGZIMkJlba"
      },
      "execution_count": 7,
      "outputs": []
    },
    {
      "cell_type": "markdown",
      "source": [
        "# Send email"
      ],
      "metadata": {
        "id": "sxh81L7IG8OZ"
      }
    },
    {
      "cell_type": "markdown",
      "source": [
        "Refer to Sending a [Plain-Text Email](https://realpython.com/python-send-email/). Look for the code section just above the **Sending a Fancy Email** header."
      ],
      "metadata": {
        "id": "3vFIeEwtHL_k"
      }
    },
    {
      "cell_type": "code",
      "source": [
        "#use https://realpython.com/python-send-email/\n",
        "\n"
      ],
      "metadata": {
        "id": "ULtx2jUzAX2_"
      },
      "execution_count": null,
      "outputs": []
    }
  ]
}