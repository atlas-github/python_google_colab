{
  "nbformat": 4,
  "nbformat_minor": 0,
  "metadata": {
    "colab": {
      "provenance": [],
      "collapsed_sections": [
        "czikNLCV6z3H",
        "GjVrfIGI8GQA"
      ],
      "authorship_tag": "ABX9TyN/Ko4b2t93ZrNuXtHSoKkG",
      "include_colab_link": true
    },
    "kernelspec": {
      "name": "python3",
      "display_name": "Python 3"
    },
    "language_info": {
      "name": "python"
    }
  },
  "cells": [
    {
      "cell_type": "markdown",
      "metadata": {
        "id": "view-in-github",
        "colab_type": "text"
      },
      "source": [
        "<a href=\"https://colab.research.google.com/github/atlas-github/python_google_colab/blob/main/python_google_colab.ipynb\" target=\"_parent\"><img src=\"https://colab.research.google.com/assets/colab-badge.svg\" alt=\"Open In Colab\"/></a>"
      ]
    },
    {
      "cell_type": "markdown",
      "source": [
        "# Using Google Colab"
      ],
      "metadata": {
        "id": "s7YnwppL5iPi"
      }
    },
    {
      "cell_type": "markdown",
      "source": [
        "1.   `Tools` >> `Settings` >> `Editor` >> Show line numbers (check if you prefer)\n",
        "2.   `Tools` >> `Settings` >> `Miscellaneous` >> Corgi mode, Kitty mode (turn on if you like)"
      ],
      "metadata": {
        "id": "vBfNk8CX5rgt"
      }
    },
    {
      "cell_type": "markdown",
      "source": [
        "Test with some basic code:\n",
        "\n",
        "1.   Click `Connect` at top right\n",
        "2.   Write simple definition\n",
        "3.   Test simple math problem"
      ],
      "metadata": {
        "id": "wIbEZIyd52N6"
      }
    },
    {
      "cell_type": "code",
      "source": [],
      "metadata": {
        "id": "ctfvOY5E5q1M"
      },
      "execution_count": null,
      "outputs": []
    },
    {
      "cell_type": "markdown",
      "source": [
        "Runtime settings\n",
        "\n",
        "1.   Run cells using Shift-Enter\n",
        "2.   Reset runtime\n",
        "\n",
        "Write code in code cells.\n",
        "\n",
        "Write text in text cells."
      ],
      "metadata": {
        "id": "ZxLoQu8b6NTs"
      }
    },
    {
      "cell_type": "markdown",
      "source": [],
      "metadata": {
        "id": "vZOs0MWZ6bol"
      }
    },
    {
      "cell_type": "code",
      "execution_count": null,
      "metadata": {
        "id": "dehWamRQ4GTZ"
      },
      "outputs": [],
      "source": []
    },
    {
      "cell_type": "markdown",
      "source": [
        "Save using Ctrl-S"
      ],
      "metadata": {
        "id": "JZ6SxVlr6dAI"
      }
    },
    {
      "cell_type": "markdown",
      "source": [
        "# Visualize using [Seaborn](https://seaborn.pydata.org/)"
      ],
      "metadata": {
        "id": "czikNLCV6z3H"
      }
    },
    {
      "cell_type": "code",
      "source": [
        "#histplot: https://seaborn.pydata.org/generated/seaborn.histplot.html#seaborn.histplot\n",
        "\n"
      ],
      "metadata": {
        "id": "oMh_4D6f6cSN"
      },
      "execution_count": null,
      "outputs": []
    },
    {
      "cell_type": "code",
      "source": [
        "#displot: https://seaborn.pydata.org/generated/seaborn.displot.html#seaborn.displot\n",
        "\n"
      ],
      "metadata": {
        "id": "qpSE6YKX769G"
      },
      "execution_count": null,
      "outputs": []
    },
    {
      "cell_type": "code",
      "source": [
        "#boxplot: https://seaborn.pydata.org/generated/seaborn.boxplot.html#seaborn.boxplot\n",
        "\n"
      ],
      "metadata": {
        "id": "NYY_7jNM76_t"
      },
      "execution_count": null,
      "outputs": []
    },
    {
      "cell_type": "markdown",
      "source": [
        "#Upload files using [pandas](https://pandas.pydata.org/)"
      ],
      "metadata": {
        "id": "GjVrfIGI8GQA"
      }
    },
    {
      "cell_type": "code",
      "source": [
        "#read data from https://github.com/MoH-Malaysia/covid19-public/tree/main/static\n",
        "#use https://pandas.pydata.org/pandas-docs/stable/reference/api/pandas.read_csv.html\n",
        "\n"
      ],
      "metadata": {
        "id": "Hn7JgTl-8A4u"
      },
      "execution_count": null,
      "outputs": []
    },
    {
      "cell_type": "code",
      "source": [
        "#read_data from https://github.com/MoH-Malaysia/kkmnow-data\n",
        "#use https://pandas.pydata.org/docs/reference/api/pandas.read_parquet.html\n",
        "\n"
      ],
      "metadata": {
        "id": "_52ThYFS8bg8"
      },
      "execution_count": 1,
      "outputs": []
    },
    {
      "cell_type": "code",
      "source": [
        "#download Orders sheet from https://docs.google.com/spreadsheets/d/1IaonaJj-c5Ud76Uc9WeRiMSlKLTNnbg-BCUxOoZrXn0/edit?gid=0#gid=0\n",
        "#upload to Colab\n",
        "#use https://pandas.pydata.org/pandas-docs/stable/reference/api/pandas.read_csv.html\n",
        "\n"
      ],
      "metadata": {
        "id": "Qi_2xzwa8bjX"
      },
      "execution_count": 1,
      "outputs": []
    },
    {
      "cell_type": "markdown",
      "source": [
        "# Upload from Google Drive"
      ],
      "metadata": {
        "id": "jep5NgpQ-lL8"
      }
    },
    {
      "cell_type": "code",
      "source": [
        "#replace URL if needed\n",
        "url = \"https://docs.google.com/spreadsheets/d/1n1WDfUiiLsa-DftwW5kLFQV7k7chFPEdrtodNb9-BAQ/edit?gid=506954341#gid=506954341\"\n",
        "parts = url.split(\"/\")\n",
        "id = parts[5]\n",
        "id"
      ],
      "metadata": {
        "colab": {
          "base_uri": "https://localhost:8080/",
          "height": 35
        },
        "id": "LI8GHYmX_qA9",
        "outputId": "4003f55c-b6a7-462a-99c9-1d69b58d3571"
      },
      "execution_count": 2,
      "outputs": [
        {
          "output_type": "execute_result",
          "data": {
            "text/plain": [
              "'1n1WDfUiiLsa-DftwW5kLFQV7k7chFPEdrtodNb9-BAQ'"
            ],
            "application/vnd.google.colaboratory.intrinsic+json": {
              "type": "string"
            }
          },
          "metadata": {},
          "execution_count": 2
        }
      ]
    },
    {
      "cell_type": "code",
      "source": [
        "from google.colab import auth\n",
        "from google.auth import default\n",
        "import gspread\n",
        "import pandas as pd\n",
        "\n",
        "#authentication with Google credentials\n",
        "auth.authenticate_user()\n",
        "creds, _ = default()\n",
        "\n",
        "#Links to MY:patient_safety\n",
        "gc = gspread.authorize(creds)\n",
        "sh = gc.open_by_key(str(id))\n",
        "\n",
        "#gets data based on sheet name\n",
        "worksheet = sh.worksheet(\"my:national_specialist_registry\")\n",
        "rows = worksheet.get_all_values()\n",
        "\n",
        "#create dataframe\n",
        "df = pd.DataFrame.from_records(rows)\n",
        "\n",
        "#set header as first row\n",
        "df.columns = df.iloc[0]\n",
        "\n",
        "#data in row 1 and beyond\n",
        "df = df[1:]\n",
        "df"
      ],
      "metadata": {
        "id": "grGvXWDS_yaO"
      },
      "execution_count": null,
      "outputs": []
    },
    {
      "cell_type": "markdown",
      "source": [
        "# Calling external APIs"
      ],
      "metadata": {
        "id": "kJCwygehJiz2"
      }
    },
    {
      "cell_type": "code",
      "source": [
        "#use https://developer.data.gov.my/realtime-api/gtfs-realtime\n",
        "\n"
      ],
      "metadata": {
        "id": "hUTGZIMkJlba"
      },
      "execution_count": 7,
      "outputs": []
    },
    {
      "cell_type": "markdown",
      "source": [
        "# Send email"
      ],
      "metadata": {
        "id": "sxh81L7IG8OZ"
      }
    },
    {
      "cell_type": "markdown",
      "source": [
        "Refer to Sending a [Plain-Text Email](https://realpython.com/python-send-email/). Look for the code section just above the **Sending a Fancy Email** header."
      ],
      "metadata": {
        "id": "3vFIeEwtHL_k"
      }
    },
    {
      "cell_type": "code",
      "source": [
        "#use https://realpython.com/python-send-email/\n",
        "\n"
      ],
      "metadata": {
        "id": "ULtx2jUzAX2_"
      },
      "execution_count": null,
      "outputs": []
    },
    {
      "cell_type": "markdown",
      "source": [
        "# Learning more"
      ],
      "metadata": {
        "id": "0ANUhi9NKsz5"
      }
    },
    {
      "cell_type": "markdown",
      "source": [
        "I used [Python Crash Course](https://nostarch.com/python-crash-course-3rd-edition) from No Starch Press."
      ],
      "metadata": {
        "id": "wTTLxZmlKzAY"
      }
    }
  ]
}